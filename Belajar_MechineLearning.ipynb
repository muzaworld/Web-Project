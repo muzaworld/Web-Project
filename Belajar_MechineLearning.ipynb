{
  "cells": [
    {
      "cell_type": "markdown",
      "metadata": {
        "id": "view-in-github",
        "colab_type": "text"
      },
      "source": [
        "<a href=\"https://colab.research.google.com/github/muzaworld/Web-Project/blob/main/Belajar_MechineLearning.ipynb\" target=\"_parent\"><img src=\"https://colab.research.google.com/assets/colab-badge.svg\" alt=\"Open In Colab\"/></a>"
      ]
    },
    {
      "cell_type": "code",
      "execution_count": null,
      "metadata": {
        "colab": {
          "base_uri": "https://localhost:8080/"
        },
        "id": "HV2i3cZlrm0l",
        "outputId": "277040a5-f227-4148-fa18-debcd0516bb5"
      },
      "outputs": [
        {
          "data": {
            "text/plain": [
              "['README.md',\n",
              " 'anscombe.json',\n",
              " 'mnist_train_small.csv',\n",
              " 'mnist_test.csv',\n",
              " 'california_housing_test.csv',\n",
              " 'california_housing_train.csv']"
            ]
          },
          "execution_count": 1,
          "metadata": {},
          "output_type": "execute_result"
        }
      ],
      "source": [
        "import os\n",
        "\n",
        "os.listdir('sample_data')"
      ]
    },
    {
      "cell_type": "code",
      "execution_count": null,
      "metadata": {
        "colab": {
          "base_uri": "https://localhost:8080/",
          "height": 206
        },
        "id": "rbaJdL9xsVNy",
        "outputId": "3386f3f8-e58b-4800-ea61-a102e62fe970"
      },
      "outputs": [
        {
          "data": {
            "text/html": [
              "\n",
              "  <div id=\"df-dfeb51b9-6fa7-468f-91c2-837a622bff91\">\n",
              "    <div class=\"colab-df-container\">\n",
              "      <div>\n",
              "<style scoped>\n",
              "    .dataframe tbody tr th:only-of-type {\n",
              "        vertical-align: middle;\n",
              "    }\n",
              "\n",
              "    .dataframe tbody tr th {\n",
              "        vertical-align: top;\n",
              "    }\n",
              "\n",
              "    .dataframe thead th {\n",
              "        text-align: right;\n",
              "    }\n",
              "</style>\n",
              "<table border=\"1\" class=\"dataframe\">\n",
              "  <thead>\n",
              "    <tr style=\"text-align: right;\">\n",
              "      <th></th>\n",
              "      <th>longitude</th>\n",
              "      <th>latitude</th>\n",
              "      <th>housing_median_age</th>\n",
              "      <th>total_rooms</th>\n",
              "      <th>total_bedrooms</th>\n",
              "      <th>population</th>\n",
              "      <th>households</th>\n",
              "      <th>median_income</th>\n",
              "      <th>median_house_value</th>\n",
              "    </tr>\n",
              "  </thead>\n",
              "  <tbody>\n",
              "    <tr>\n",
              "      <th>0</th>\n",
              "      <td>-114.31</td>\n",
              "      <td>34.19</td>\n",
              "      <td>15.0</td>\n",
              "      <td>5612.0</td>\n",
              "      <td>1283.0</td>\n",
              "      <td>1015.0</td>\n",
              "      <td>472.0</td>\n",
              "      <td>1.4936</td>\n",
              "      <td>66900.0</td>\n",
              "    </tr>\n",
              "    <tr>\n",
              "      <th>1</th>\n",
              "      <td>-114.47</td>\n",
              "      <td>34.40</td>\n",
              "      <td>19.0</td>\n",
              "      <td>7650.0</td>\n",
              "      <td>1901.0</td>\n",
              "      <td>1129.0</td>\n",
              "      <td>463.0</td>\n",
              "      <td>1.8200</td>\n",
              "      <td>80100.0</td>\n",
              "    </tr>\n",
              "    <tr>\n",
              "      <th>2</th>\n",
              "      <td>-114.56</td>\n",
              "      <td>33.69</td>\n",
              "      <td>17.0</td>\n",
              "      <td>720.0</td>\n",
              "      <td>174.0</td>\n",
              "      <td>333.0</td>\n",
              "      <td>117.0</td>\n",
              "      <td>1.6509</td>\n",
              "      <td>85700.0</td>\n",
              "    </tr>\n",
              "    <tr>\n",
              "      <th>3</th>\n",
              "      <td>-114.57</td>\n",
              "      <td>33.64</td>\n",
              "      <td>14.0</td>\n",
              "      <td>1501.0</td>\n",
              "      <td>337.0</td>\n",
              "      <td>515.0</td>\n",
              "      <td>226.0</td>\n",
              "      <td>3.1917</td>\n",
              "      <td>73400.0</td>\n",
              "    </tr>\n",
              "    <tr>\n",
              "      <th>4</th>\n",
              "      <td>-114.57</td>\n",
              "      <td>33.57</td>\n",
              "      <td>20.0</td>\n",
              "      <td>1454.0</td>\n",
              "      <td>326.0</td>\n",
              "      <td>624.0</td>\n",
              "      <td>262.0</td>\n",
              "      <td>1.9250</td>\n",
              "      <td>65500.0</td>\n",
              "    </tr>\n",
              "  </tbody>\n",
              "</table>\n",
              "</div>\n",
              "      <button class=\"colab-df-convert\" onclick=\"convertToInteractive('df-dfeb51b9-6fa7-468f-91c2-837a622bff91')\"\n",
              "              title=\"Convert this dataframe to an interactive table.\"\n",
              "              style=\"display:none;\">\n",
              "        \n",
              "  <svg xmlns=\"http://www.w3.org/2000/svg\" height=\"24px\"viewBox=\"0 0 24 24\"\n",
              "       width=\"24px\">\n",
              "    <path d=\"M0 0h24v24H0V0z\" fill=\"none\"/>\n",
              "    <path d=\"M18.56 5.44l.94 2.06.94-2.06 2.06-.94-2.06-.94-.94-2.06-.94 2.06-2.06.94zm-11 1L8.5 8.5l.94-2.06 2.06-.94-2.06-.94L8.5 2.5l-.94 2.06-2.06.94zm10 10l.94 2.06.94-2.06 2.06-.94-2.06-.94-.94-2.06-.94 2.06-2.06.94z\"/><path d=\"M17.41 7.96l-1.37-1.37c-.4-.4-.92-.59-1.43-.59-.52 0-1.04.2-1.43.59L10.3 9.45l-7.72 7.72c-.78.78-.78 2.05 0 2.83L4 21.41c.39.39.9.59 1.41.59.51 0 1.02-.2 1.41-.59l7.78-7.78 2.81-2.81c.8-.78.8-2.07 0-2.86zM5.41 20L4 18.59l7.72-7.72 1.47 1.35L5.41 20z\"/>\n",
              "  </svg>\n",
              "      </button>\n",
              "      \n",
              "  <style>\n",
              "    .colab-df-container {\n",
              "      display:flex;\n",
              "      flex-wrap:wrap;\n",
              "      gap: 12px;\n",
              "    }\n",
              "\n",
              "    .colab-df-convert {\n",
              "      background-color: #E8F0FE;\n",
              "      border: none;\n",
              "      border-radius: 50%;\n",
              "      cursor: pointer;\n",
              "      display: none;\n",
              "      fill: #1967D2;\n",
              "      height: 32px;\n",
              "      padding: 0 0 0 0;\n",
              "      width: 32px;\n",
              "    }\n",
              "\n",
              "    .colab-df-convert:hover {\n",
              "      background-color: #E2EBFA;\n",
              "      box-shadow: 0px 1px 2px rgba(60, 64, 67, 0.3), 0px 1px 3px 1px rgba(60, 64, 67, 0.15);\n",
              "      fill: #174EA6;\n",
              "    }\n",
              "\n",
              "    [theme=dark] .colab-df-convert {\n",
              "      background-color: #3B4455;\n",
              "      fill: #D2E3FC;\n",
              "    }\n",
              "\n",
              "    [theme=dark] .colab-df-convert:hover {\n",
              "      background-color: #434B5C;\n",
              "      box-shadow: 0px 1px 3px 1px rgba(0, 0, 0, 0.15);\n",
              "      filter: drop-shadow(0px 1px 2px rgba(0, 0, 0, 0.3));\n",
              "      fill: #FFFFFF;\n",
              "    }\n",
              "  </style>\n",
              "\n",
              "      <script>\n",
              "        const buttonEl =\n",
              "          document.querySelector('#df-dfeb51b9-6fa7-468f-91c2-837a622bff91 button.colab-df-convert');\n",
              "        buttonEl.style.display =\n",
              "          google.colab.kernel.accessAllowed ? 'block' : 'none';\n",
              "\n",
              "        async function convertToInteractive(key) {\n",
              "          const element = document.querySelector('#df-dfeb51b9-6fa7-468f-91c2-837a622bff91');\n",
              "          const dataTable =\n",
              "            await google.colab.kernel.invokeFunction('convertToInteractive',\n",
              "                                                     [key], {});\n",
              "          if (!dataTable) return;\n",
              "\n",
              "          const docLinkHtml = 'Like what you see? Visit the ' +\n",
              "            '<a target=\"_blank\" href=https://colab.research.google.com/notebooks/data_table.ipynb>data table notebook</a>'\n",
              "            + ' to learn more about interactive tables.';\n",
              "          element.innerHTML = '';\n",
              "          dataTable['output_type'] = 'display_data';\n",
              "          await google.colab.output.renderOutput(dataTable, element);\n",
              "          const docLink = document.createElement('div');\n",
              "          docLink.innerHTML = docLinkHtml;\n",
              "          element.appendChild(docLink);\n",
              "        }\n",
              "      </script>\n",
              "    </div>\n",
              "  </div>\n",
              "  "
            ],
            "text/plain": [
              "   longitude  latitude  housing_median_age  total_rooms  total_bedrooms  \\\n",
              "0    -114.31     34.19                15.0       5612.0          1283.0   \n",
              "1    -114.47     34.40                19.0       7650.0          1901.0   \n",
              "2    -114.56     33.69                17.0        720.0           174.0   \n",
              "3    -114.57     33.64                14.0       1501.0           337.0   \n",
              "4    -114.57     33.57                20.0       1454.0           326.0   \n",
              "\n",
              "   population  households  median_income  median_house_value  \n",
              "0      1015.0       472.0         1.4936             66900.0  \n",
              "1      1129.0       463.0         1.8200             80100.0  \n",
              "2       333.0       117.0         1.6509             85700.0  \n",
              "3       515.0       226.0         3.1917             73400.0  \n",
              "4       624.0       262.0         1.9250             65500.0  "
            ]
          },
          "execution_count": 2,
          "metadata": {},
          "output_type": "execute_result"
        }
      ],
      "source": [
        "import pandas as pd\n",
        "\n",
        "df = pd.read_csv('sample_data/california_housing_train.csv')\n",
        "df.head()"
      ]
    },
    {
      "cell_type": "code",
      "execution_count": null,
      "metadata": {
        "colab": {
          "base_uri": "https://localhost:8080/"
        },
        "id": "VBKxOeOAYrRE",
        "outputId": "f05a55f4-86a6-420e-914f-828e6543b69b"
      },
      "outputs": [
        {
          "name": "stdout",
          "output_type": "stream",
          "text": [
            "[[0.25806452 0.45454545]\n",
            " [1.         1.        ]\n",
            " [0.         0.        ]\n",
            " [0.08064516 0.13636364]\n",
            " [0.16129032 0.27272727]]\n"
          ]
        }
      ],
      "source": [
        "from sklearn.preprocessing import MinMaxScaler\n",
        "\n",
        "data = [[12000000, 33], [35000000, 45], [4000000, 23], [6500000, 26], [9000000, 29]]\n",
        "scaler = MinMaxScaler()\n",
        "scaler.fit(data)\n",
        "\n",
        "print(scaler.transform(data))"
      ]
    },
    {
      "cell_type": "code",
      "execution_count": null,
      "metadata": {
        "colab": {
          "base_uri": "https://localhost:8080/"
        },
        "id": "f9buzf9TcYIW",
        "outputId": "bdcac7f0-a2c1-4b07-fbe0-787cfa262eef"
      },
      "outputs": [
        {
          "data": {
            "text/plain": [
              "array([[-0.11638732,  0.23521877],\n",
              "       [ 1.94277296,  1.80334389],\n",
              "       [-0.83261698, -1.07155217],\n",
              "       [-0.60879521, -0.67952089],\n",
              "       [-0.38497344, -0.28748961]])"
            ]
          },
          "execution_count": 6,
          "metadata": {},
          "output_type": "execute_result"
        }
      ],
      "source": [
        "from sklearn import preprocessing\n",
        "\n",
        "data = [[12000000, 33], [35000000, 45], [4000000, 23], [6500000, 26], [9000000, 29]]\n",
        "scaler = preprocessing.StandardScaler().fit(data)\n",
        "data = scaler.transform(data)\n",
        "data"
      ]
    },
    {
      "cell_type": "code",
      "execution_count": null,
      "metadata": {
        "colab": {
          "base_uri": "https://localhost:8080/"
        },
        "id": "urldqvG9PiLq",
        "outputId": "8b48daf3-b8a2-4cbd-b0fc-299da1bcacc1"
      },
      "outputs": [
        {
          "name": "stdout",
          "output_type": "stream",
          "text": [
            "random_state ditentukan\n",
            "[8, 1, 5]\n",
            "random_state tidak di tentukan\n",
            "[2, 9, 4]\n"
          ]
        }
      ],
      "source": [
        "from sklearn.model_selection import train_test_split\n",
        "\n",
        "X_data = range(10)\n",
        "y_data = range(10)\n",
        "\n",
        "print(\"random_state ditentukan\")\n",
        "for i in range(3):\n",
        "  X_train, X_test, y_train, y_test = train_test_split(X_data, y_data, test_size= 0.3, random_state= 42)\n",
        "print(y_test)\n",
        "\n",
        "print(\"random_state tidak di tentukan\")\n",
        "for i in range(3):\n",
        "  X_train, X_test, y_train, y_test = train_test_split(X_data, y_data, test_size= 0.3, random_state= None)\n",
        "print(y_test)"
      ]
    },
    {
      "cell_type": "code",
      "execution_count": null,
      "metadata": {
        "colab": {
          "base_uri": "https://localhost:8080/"
        },
        "id": "ObPU9HJ_MINH",
        "outputId": "90c94c7c-9305-41e4-8cfe-bdede3317946"
      },
      "outputs": [
        {
          "data": {
            "text/plain": [
              "30"
            ]
          },
          "execution_count": 1,
          "metadata": {},
          "output_type": "execute_result"
        }
      ],
      "source": [
        "import sklearn\n",
        "from sklearn import datasets\n",
        "\n",
        "# load iris datasets\n",
        "iris = datasets.load_iris()\n",
        "\n",
        "# pisahkan atribut dan label pada datasets\n",
        "x = iris.data\n",
        "y = iris.target\n",
        "\n",
        "from sklearn.model_selection import train_test_split\n",
        "\n",
        "# membagi dataset menjadi training dan testing\n",
        "x_train, x_test, y_train, y_test = train_test_split(x, y, test_size=0.2, random_state=1)\n",
        "\n",
        "# menghitung panjang/data pada x_test\n",
        "len(x_test)"
      ]
    },
    {
      "cell_type": "code",
      "execution_count": null,
      "metadata": {
        "colab": {
          "base_uri": "https://localhost:8080/"
        },
        "id": "y5INkdFHTnNw",
        "outputId": "3b9d8e0e-3903-477f-ac4b-533d1bbea3e5"
      },
      "outputs": [
        {
          "data": {
            "text/plain": [
              "array([0.96666667, 0.96666667, 0.9       , 0.96666667, 1.        ])"
            ]
          },
          "execution_count": 5,
          "metadata": {},
          "output_type": "execute_result"
        }
      ],
      "source": [
        "import sklearn\n",
        "from sklearn import datasets\n",
        "\n",
        "# load iris datasets\n",
        "iris = datasets.load_iris()\n",
        "\n",
        "# mendefinisikan atribut dan label pada datasets\n",
        "x=iris.data\n",
        "y=iris.target\n",
        "\n",
        "from sklearn import tree\n",
        "\n",
        "# membuat model dengan decision tree classifier\n",
        "clf = tree.DecisionTreeClassifier()\n",
        "\n",
        "from sklearn.model_selection import cross_val_score\n",
        "\n",
        "# mengevaluasi performa model dengan cross_val_score\n",
        "scores = cross_val_score(clf, x, y, cv=5)\n",
        "scores\n"
      ]
    },
    {
      "cell_type": "code",
      "execution_count": null,
      "metadata": {
        "colab": {
          "base_uri": "https://localhost:8080/"
        },
        "id": "q59X7qN5kVty",
        "outputId": "33dc6823-e4f0-440b-d746-8263f5b824b2"
      },
      "outputs": [
        {
          "name": "stdout",
          "output_type": "stream",
          "text": [
            "<class 'pandas.core.frame.DataFrame'>\n",
            "RangeIndex: 150 entries, 0 to 149\n",
            "Data columns (total 6 columns):\n",
            " #   Column         Non-Null Count  Dtype  \n",
            "---  ------         --------------  -----  \n",
            " 0   Id             150 non-null    int64  \n",
            " 1   SepalLengthCm  150 non-null    float64\n",
            " 2   SepalWidthCm   150 non-null    float64\n",
            " 3   PetalLengthCm  150 non-null    float64\n",
            " 4   PetalWidthCm   150 non-null    float64\n",
            " 5   Species        150 non-null    object \n",
            "dtypes: float64(4), int64(1), object(1)\n",
            "memory usage: 7.2+ KB\n",
            "Accuracy:  0.933\n",
            "Iris-virginica\n"
          ]
        },
        {
          "name": "stderr",
          "output_type": "stream",
          "text": [
            "/usr/local/lib/python3.7/dist-packages/sklearn/base.py:451: UserWarning: X does not have valid feature names, but DecisionTreeClassifier was fitted with feature names\n",
            "  \"X does not have valid feature names, but\"\n"
          ]
        }
      ],
      "source": [
        "import pandas as pd\n",
        "from sklearn.datasets import load_iris\n",
        "\n",
        "# membaca file iris.csv\n",
        "iris = pd.read_csv('Iris.csv')\n",
        "\n",
        "# melihat informasi datasets\n",
        "iris.info()\n",
        "\n",
        "# melihat informasi dataset pada 5 baris pertama\n",
        "iris.head()\n",
        "\n",
        "# menghilangkan kolom yang tidak penting\n",
        "iris.drop('Id', axis=1, inplace=True)\n",
        "\n",
        "# memisahkan atribut dan label\n",
        "X = iris[['SepalLengthCm', 'SepalWidthCm', 'PetalLengthCm', 'PetalWidthCm' ]]\n",
        "y = iris ['Species']\n",
        "\n",
        "# membagi dataset menjadi data latih dan data uji\n",
        "from sklearn.model_selection import train_test_split\n",
        "\n",
        "x_train, x_test, y_train, y_test = train_test_split(X, y, test_size=0.1, random_state=123)\n",
        "\n",
        "from sklearn.tree import DecisionTreeClassifier\n",
        "\n",
        "# membuat model decision tree\n",
        "tree_model = DecisionTreeClassifier()\n",
        "\n",
        "# melatih model dengan menggunakan data latih\n",
        "tree_model = tree_model.fit(x_train, y_train)\n",
        "\n",
        "# evaluasi model\n",
        "from sklearn.metrics import accuracy_score\n",
        "\n",
        "y_pred = tree_model.predict(x_test)\n",
        "\n",
        "acc_secore = round(accuracy_score(y_pred, y_test), 3)\n",
        "\n",
        "print('Accuracy: ', acc_secore)\n",
        "\n",
        "# prediksi model dengan tree_model.predict([[SepalLength, SepalWidth, PetalLength, PetalWidth]])\n",
        "print(tree_model.predict([[6.2, 3.4, 5.4, 2.3]])[0])\n",
        "\n",
        "from sklearn.tree import export_graphviz\n",
        "\n",
        "export_graphviz(\n",
        "    tree_model,\n",
        "    out_file = \"iris_tree.dot\",\n",
        "    feature_names = ['SepalLengthCm', 'SepalWidthCm', 'PetalLengthCm', 'PetalWidthCm'],\n",
        "    class_names = ['Iris-setosa', 'Iris-versicolor', 'Iris-virginica'],\n",
        "    rounded=True,\n",
        "    filled=True\n",
        ")"
      ]
    },
    {
      "cell_type": "code",
      "execution_count": null,
      "metadata": {
        "colab": {
          "base_uri": "https://localhost:8080/",
          "height": 283
        },
        "id": "X_dR7rg_xHBV",
        "outputId": "ac8b2ea9-163f-4567-ac26-c72b20b5757e"
      },
      "outputs": [
        {
          "data": {
            "text/plain": [
              "[<matplotlib.lines.Line2D at 0x7f6578646fd0>]"
            ]
          },
          "execution_count": 3,
          "metadata": {},
          "output_type": "execute_result"
        },
        {
          "data": {
            "image/png": "[encoded data removed]",
            "text/plain": [
              "<Figure size 432x288 with 1 Axes>"
            ]
          },
          "metadata": {},
          "output_type": "display_data"
        }
      ],
      "source": [
        "import numpy as np\n",
        "\n",
        "# buat data jumlah kamar\n",
        "bedrooms = np.array([1,1,2,2,3,4,4,5,5,5])\n",
        "\n",
        "# data harga rumah, asumsi dalam dollar\n",
        "house_price = np.array([15000, 18000, 27000, 34000, 50000, 68000, 65000, 81000, 85000, 90000])\n",
        "\n",
        "# menampilkan scatter plot dari dataset\n",
        "import matplotlib.pyplot as plt\n",
        "\n",
        "%matplotlib inline\n",
        "\n",
        "plt.scatter(bedrooms, house_price)\n",
        "\n",
        "from sklearn.linear_model import LinearRegression\n",
        "\n",
        "# latih model dengan Linear Regression.fit()\n",
        "bedrooms = bedrooms.reshape(-1, 1)\n",
        "linreg = LinearRegression()\n",
        "linreg.fit(bedrooms, house_price)\n",
        "\n",
        "# menampilkan plot hubungan antara jumlah kamar dengan harga rumah\n",
        "plt.scatter(bedrooms, house_price)\n",
        "plt.plot(bedrooms, linreg.predict(bedrooms))"
      ]
    },
    {
      "cell_type": "code",
      "execution_count": null,
      "metadata": {
        "colab": {
          "base_uri": "https://localhost:8080/"
        },
        "id": "_3phF-qxA6aH",
        "outputId": "9b77a362-d9df-4521-8173-e0e4414e52e5"
      },
      "outputs": [
        {
          "name": "stdout",
          "output_type": "stream",
          "text": [
            "<class 'pandas.core.frame.DataFrame'>\n",
            "RangeIndex: 400 entries, 0 to 399\n",
            "Data columns (total 5 columns):\n",
            " #   Column           Non-Null Count  Dtype \n",
            "---  ------           --------------  ----- \n",
            " 0   User ID          400 non-null    int64 \n",
            " 1   Gender           400 non-null    object\n",
            " 2   Age              400 non-null    int64 \n",
            " 3   EstimatedSalary  400 non-null    int64 \n",
            " 4   Purchased        400 non-null    int64 \n",
            "dtypes: int64(4), object(1)\n",
            "memory usage: 15.8+ KB\n"
          ]
        },
        {
          "data": {
            "text/plain": [
              "0.825"
            ]
          },
          "execution_count": 2,
          "metadata": {},
          "output_type": "execute_result"
        }
      ],
      "source": [
        "import pandas as pd\n",
        "\n",
        "# membaca dataset dan mengubahnya menjadi dataframe\n",
        "df = pd.read_csv('Social_Network_Ads.csv')\n",
        "\n",
        "df.head()\n",
        "\n",
        "df.info()\n",
        "\n",
        "# drop kolom yang tidak diperlukan\n",
        "data = df.drop(columns=['User ID'])\n",
        "\n",
        "# jalankan proses one-hot encoding dengan pd.get_dummies()\n",
        "data = pd.get_dummies(data)\n",
        "data\n",
        "\n",
        "# pisahkan atribut dan lebel\n",
        "predictions = ['Age', 'EstimatedSalary', 'Gender_Female', 'Gender_Male']\n",
        "x = data[predictions]\n",
        "y = data['Purchased']\n",
        "\n",
        "#lakukan normalisasi terhadap data yang kita miliki\n",
        "from sklearn.preprocessing import StandardScaler\n",
        "\n",
        "scaler = StandardScaler()\n",
        "scaler.fit(x)\n",
        "scaled_data = scaler.transform(x)\n",
        "scaled_data = pd.DataFrame(scaled_data, columns=x.columns)\n",
        "scaled_data.head()\n",
        "\n",
        "from sklearn.model_selection import train_test_split\n",
        "\n",
        "# bagi data menjadi train dan test untuk setiap atribut dan label\n",
        "x_train, x_test, y_train, y_test = train_test_split(scaled_data, y, test_size=0.2, random_state=1)\n",
        "\n",
        "from sklearn import linear_model\n",
        "\n",
        "# latih model dengan fungsi fit\n",
        "model = linear_model.LogisticRegression()\n",
        "model.fit(x_train, y_train)\n",
        "\n",
        "# uji akurasi model\n",
        "model.score(x_test, y_test)"
      ]
    },
    {
      "cell_type": "code",
      "execution_count": null,
      "metadata": {
        "colab": {
          "base_uri": "https://localhost:8080/",
          "height": 574
        },
        "id": "GUhnYHyn2kvY",
        "outputId": "dff03f38-7485-4f8a-efd0-658ed7c9edce"
      },
      "outputs": [
        {
          "data": {
            "image/png": "[encoded data removed]",
            "text/plain": [
              "<Figure size 576x288 with 1 Axes>"
            ]
          },
          "metadata": {},
          "output_type": "display_data"
        },
        {
          "data": {
            "image/png": "[encoded data removed]",
            "text/plain": [
              "<Figure size 576x288 with 1 Axes>"
            ]
          },
          "metadata": {},
          "output_type": "display_data"
        }
      ],
      "source": [
        "import pandas as pd\n",
        "     \n",
        "#ubah file csv menjadi dataframe\n",
        "df = pd.read_csv('Mall_Customers.csv')\n",
        "     \n",
        "# tampilkan 3 baris pertama\n",
        "df.head(3)\n",
        "\n",
        "# ubah nama kolom\n",
        "df = df.rename(columns={'Gender': 'gender', 'Age': 'age',\n",
        "                         'Annual Income (k$)': 'annual_income',\n",
        "                         'Spending Score (1-100)': 'spending_score'})\n",
        "     \n",
        "# ubah data kategorik menjadi data numerik\n",
        "df['gender'].replace(['Female', 'Male'], [0,1], inplace=True)\n",
        "     \n",
        "# tampilkan data yang sudah di preprocess\n",
        "df.head(3)\n",
        "\n",
        "from sklearn.cluster import KMeans\n",
        "    \n",
        "# menghilangkan kolom customer id dan gender\n",
        "X = df.drop(['CustomerID', 'gender'], axis=1)\n",
        "     \n",
        "#membuat list yang berisi inertia\n",
        "clusters = []\n",
        "for i in range(1,11):\n",
        " km = KMeans(n_clusters=i).fit(X)\n",
        " clusters.append(km.inertia_)\n",
        "\n",
        "import matplotlib.pyplot as plt\n",
        "%matplotlib inline\n",
        "import seaborn as sns\n",
        "    \n",
        "# membuat plot inertia\n",
        "fig, ax = plt.subplots(figsize=(8, 4))\n",
        "sns.lineplot(x=list(range(1, 11)), y=clusters, ax=ax)\n",
        "ax.set_title('Cari Elbow')\n",
        "ax.set_xlabel('Clusters')\n",
        "ax.set_ylabel('Inertia')\n",
        "\n",
        "# membuat objek KMeans\n",
        "km5 = KMeans(n_clusters=5).fit(X)\n",
        "     \n",
        "# menambahkan kolom label pada dataset\n",
        "X['Labels'] = km5.labels_\n",
        "     \n",
        "# membuat plot KMeans dengan 5 klaster\n",
        "plt.figure(figsize=(8,4))\n",
        "sns.scatterplot(x=X['annual_income'], y=X['spending_score'], hue=X['Labels'],\n",
        "                palette=sns.color_palette('hls', 5))\n",
        "plt.title('KMeans dengan 5 Cluster')\n",
        "plt.show()"
      ]
    },
    {
      "cell_type": "code",
      "execution_count": null,
      "metadata": {
        "colab": {
          "base_uri": "https://localhost:8080/"
        },
        "id": "Pwa8Ewiw8DYn",
        "outputId": "b87fb544-cc55-4101-c85c-ee4c3a5a2657"
      },
      "outputs": [
        {
          "data": {
            "text/plain": [
              "0.9333333333333333"
            ]
          },
          "execution_count": 3,
          "metadata": {},
          "output_type": "execute_result"
        }
      ],
      "source": [
        "from sklearn import datasets\n",
        "from sklearn.model_selection import train_test_split\n",
        "\n",
        "iris = datasets.load_iris()\n",
        "atribut = iris.data\n",
        "label = iris.target\n",
        "\n",
        "# bagi dataset menjadi train set dan test set\n",
        "x_train, x_test, y_train, y_test = train_test_split(\n",
        "    atribut, label, test_size=0.2, random_state=1)\n",
        "\n",
        "from sklearn import tree\n",
        "\n",
        "decision_tree = tree.DecisionTreeClassifier()\n",
        "model_pertama = decision_tree.fit(x_train, y_train)\n",
        "model_pertama.score(x_test, y_test)\n",
        "\n",
        "from sklearn.decomposition import PCA\n",
        "\n",
        "# membuat objek PCA dengan 4 principal component\n",
        "pca = PCA(n_components=4)\n",
        "\n",
        "# mengaplikasikan PCA pada dataset\n",
        "pca_atributes = pca.fit_transform(x_train)\n",
        "\n",
        "# melihat variance dari setiap atribut\n",
        "pca.explained_variance_ratio_\n",
        "\n",
        "# PCA dengan 2 principal component\n",
        "pca = PCA(n_components=2)\n",
        "x_train_pca = pca.fit_transform(x_train)\n",
        "x_test_pca = pca.fit_transform(x_test)\n",
        "\n",
        "# uji akurasi classifier\n",
        "model2 = decision_tree.fit(x_train_pca, y_train)\n",
        "model2.score(x_test_pca, y_test)"
      ]
    },
    {
      "cell_type": "code",
      "execution_count": null,
      "metadata": {
        "colab": {
          "base_uri": "https://localhost:8080/"
        },
        "id": "G653vui9UeLS",
        "outputId": "9f4fadcc-ce51-4754-b736-48eff9cb59f9"
      },
      "outputs": [
        {
          "name": "stdout",
          "output_type": "stream",
          "text": [
            "<class 'pandas.core.frame.DataFrame'>\n",
            "RangeIndex: 768 entries, 0 to 767\n",
            "Data columns (total 9 columns):\n",
            " #   Column                    Non-Null Count  Dtype  \n",
            "---  ------                    --------------  -----  \n",
            " 0   Pregnancies               768 non-null    int64  \n",
            " 1   Glucose                   768 non-null    int64  \n",
            " 2   BloodPressure             768 non-null    int64  \n",
            " 3   SkinThickness             768 non-null    int64  \n",
            " 4   Insulin                   768 non-null    int64  \n",
            " 5   BMI                       768 non-null    float64\n",
            " 6   DiabetesPedigreeFunction  768 non-null    float64\n",
            " 7   Age                       768 non-null    int64  \n",
            " 8   Outcome                   768 non-null    int64  \n",
            "dtypes: float64(2), int64(7)\n",
            "memory usage: 54.1 KB\n"
          ]
        },
        {
          "data": {
            "text/plain": [
              "0.7559055118110236"
            ]
          },
          "execution_count": 6,
          "metadata": {},
          "output_type": "execute_result"
        }
      ],
      "source": [
        "import pandas as pd\n",
        "\n",
        "df = pd.read_csv('diabetes.csv')\n",
        "\n",
        "df.head()\n",
        "\n",
        "df.info()\n",
        "\n",
        "# memisahkan atribut pada dataset dan menyimpan nya pada sebuah variabel\n",
        "x = df[df.columns[:8]]\n",
        "\n",
        "# memisahkan label pada dataset dan menyimpannya pada sebuah varibel\n",
        "y = df['Outcome']\n",
        "\n",
        "from sklearn.preprocessing import StandardScaler\n",
        "\n",
        "# standarisasi nilai-nilai dari dataset\n",
        "scaler = StandardScaler()\n",
        "scaler.fit(x)\n",
        "x = scaler.transform(x)\n",
        "\n",
        "# memisahkan data untuk training dan testing\n",
        "x_train, x_test, y_train, y_test = train_test_split(\n",
        "    x, y, test_size=0.33, random_state=42)\n",
        "\n",
        "from sklearn.svm import SVC\n",
        "\n",
        "#membuat objek SVC dang memanggil fungsi fit untuk melatih model\n",
        "clf = SVC()\n",
        "clf.fit(x_train, y_train)\n",
        "\n",
        "# menampilkan skor akurasi prediksi\n",
        "clf.score(x_test, y_test)"
      ]
    },
    {
      "cell_type": "code",
      "execution_count": null,
      "metadata": {
        "colab": {
          "base_uri": "https://localhost:8080/",
          "height": 482
        },
        "id": "al2gjo7gjOrT",
        "outputId": "9947dd8e-ae73-4a20-e4ca-9aec559935d0"
      },
      "outputs": [
        {
          "name": "stdout",
          "output_type": "stream",
          "text": [
            "<class 'pandas.core.frame.DataFrame'>\n",
            "RangeIndex: 30 entries, 0 to 29\n",
            "Data columns (total 2 columns):\n",
            " #   Column           Non-Null Count  Dtype  \n",
            "---  ------           --------------  -----  \n",
            " 0   YearsExperience  30 non-null     float64\n",
            " 1   Salary           30 non-null     float64\n",
            "dtypes: float64(2)\n",
            "memory usage: 608.0 bytes\n"
          ]
        },
        {
          "name": "stderr",
          "output_type": "stream",
          "text": [
            "/usr/local/lib/python3.7/dist-packages/ipykernel_launcher.py:17: FutureWarning: Support for multi-dimensional indexing (e.g. `obj[:, None]`) is deprecated and will be removed in a future version.  Convert to a numpy array before indexing instead.\n"
          ]
        },
        {
          "data": {
            "text/plain": [
              "[<matplotlib.lines.Line2D at 0x7f3d4717e790>]"
            ]
          },
          "execution_count": 11,
          "metadata": {},
          "output_type": "execute_result"
        },
        {
          "data": {
            "image/png": "[encoded data removed]",
            "text/plain": [
              "<Figure size 432x288 with 1 Axes>"
            ]
          },
          "metadata": {},
          "output_type": "display_data"
        }
      ],
      "source": [
        "import pandas as pd\n",
        "\n",
        "# membaca dataset dan mengubah nya menjadi dataframe\n",
        "data = pd.read_csv('Salary_Data.csv')\n",
        "\n",
        "data.info()\n",
        "\n",
        "data.head()\n",
        "\n",
        "import numpy as np\n",
        "\n",
        "# memisahkan atribut dan label\n",
        "x = data['YearsExperience']\n",
        "y = data['Salary']\n",
        "\n",
        "# mengubah bentuk atribut\n",
        "x = x[:,np.newaxis]\n",
        "\n",
        "from sklearn.svm import SVR\n",
        "\n",
        "# membangun model dengan parameter C, gamma, dan kernel\n",
        "model = SVR(C=1000, gamma=0.5, kernel='rbf')\n",
        "\n",
        "# melatih model dengan funsi fit\n",
        "model.fit(x,y)\n",
        "\n",
        "import matplotlib.pyplot as plt\n",
        "\n",
        "# memvisualisasikan model\n",
        "plt.scatter(x,y)\n",
        "plt.plot(x, model.predict(x))\n"
      ]
    },
    {
      "cell_type": "code",
      "execution_count": null,
      "metadata": {
        "colab": {
          "base_uri": "https://localhost:8080/",
          "height": 356
        },
        "id": "CMPgaOKgvrHo",
        "outputId": "4d3ea205-4120-4630-a6b1-43b4f8a6f56a"
      },
      "outputs": [
        {
          "name": "stdout",
          "output_type": "stream",
          "text": [
            "{'C': 100000, 'gamma': 0.005, 'kernel': 'rbf'}\n"
          ]
        },
        {
          "name": "stderr",
          "output_type": "stream",
          "text": [
            "/usr/local/lib/python3.7/dist-packages/ipykernel_launcher.py:13: FutureWarning: Support for multi-dimensional indexing (e.g. `obj[:, None]`) is deprecated and will be removed in a future version.  Convert to a numpy array before indexing instead.\n",
            "  del sys.path[0]\n"
          ]
        },
        {
          "data": {
            "text/plain": [
              "[<matplotlib.lines.Line2D at 0x7f2dc664b290>]"
            ]
          },
          "execution_count": 2,
          "metadata": {},
          "output_type": "execute_result"
        },
        {
          "data": {
            "image/png": "[encoded data removed]",
            "text/plain": [
              "<Figure size 432x288 with 1 Axes>"
            ]
          },
          "metadata": {},
          "output_type": "display_data"
        }
      ],
      "source": [
        "import pandas as pd\n",
        "\n",
        "# membaca dataset dan mengubah nya menjadi dataframe\n",
        "data = pd.read_csv('Salary_Data.csv')\n",
        "\n",
        "import numpy as np\n",
        "\n",
        "# memisahkan atribut dan label\n",
        "x = data['YearsExperience']\n",
        "y = data['Salary']\n",
        "\n",
        "# mengubah bentuk atribut\n",
        "x = x[:,np.newaxis]\n",
        "\n",
        "from sklearn.model_selection import GridSearchCV\n",
        "from sklearn.svm import SVR\n",
        "\n",
        "# membangun model dengan parameter C, gamma, dan kernel\n",
        "model = SVR()\n",
        "parameters = {\n",
        "    'kernel': ['rbf'],\n",
        "    'gamma': [0.5, 0.05, 0.005],\n",
        "    'C': [1000, 10000, 100000]\n",
        "}\n",
        "grid_search = GridSearchCV(model, parameters)\n",
        "\n",
        "# melatih model dengan fungsi fit\n",
        "grid_search.fit(x, y)\n",
        "\n",
        "# menampilkan parameter terbaik dari objek grid_search\n",
        "print(grid_search.best_params_)\n",
        "\n",
        "# membuat model SVM baru dengan parameter terbaik hasil grid search\n",
        "model_baru = SVR(C=100000, gamma=0.005, kernel='rbf')\n",
        "model_baru.fit(x,y)\n",
        "\n",
        "import matplotlib.pyplot as plt\n",
        "plt.scatter(x,y)\n",
        "plt.plot(x, model_baru.predict(x))"
      ]
    },
    {
      "cell_type": "code",
      "execution_count": null,
      "metadata": {
        "colab": {
          "base_uri": "https://localhost:8080/"
        },
        "id": "Oq7oJXTdedow",
        "outputId": "b6db129e-f5b3-4382-af53-9e8c5882c7a0"
      },
      "outputs": [
        {
          "name": "stdout",
          "output_type": "stream",
          "text": [
            "Machine Learning Developer di Indonesia: \n",
            "              Name  Age\n",
            "0     Rifany Reza   41\n",
            "1       Laut Muza   15\n",
            "2  Matahari Timur   10\n",
            "\n",
            " Split kolom 'Name', lalu tambahkan kedua kolom: \n",
            "              Name  Age     first   last\n",
            "0     Rifany Reza   41    Rifany   Reza\n",
            "1       Laut Muza   15      Laut   Muza\n",
            "2  Matahari Timur   10  Matahari  Timur\n"
          ]
        }
      ],
      "source": [
        "import pandas as pd\n",
        "\n",
        "Developer = pd.DataFrame({'Name': ['Rifany Reza', 'Laut Muza', 'Matahari Timur'],\n",
        "                          'Age': [41, 15, 10]})\n",
        "print(\"Machine Learning Developer di Indonesia: \\n\", Developer)\n",
        "\n",
        "Developer[['first', 'last']] = Developer.Name.str.split(expand=True)\n",
        "print(\"\\n Split kolom 'Name', lalu tambahkan kedua kolom: \\n\", Developer)"
      ]
    },
    {
      "cell_type": "code",
      "execution_count": null,
      "metadata": {
        "id": "d5TZOjaZuuya"
      },
      "outputs": [],
      "source": [
        ""
      ]
    },
    {
      "cell_type": "code",
      "execution_count": null,
      "metadata": {
        "colab": {
          "background_save": true,
          "base_uri": "https://localhost:8080/",
          "height": 1000
        },
        "id": "emukyvF50Neh",
        "outputId": "4ad5fdcc-f923-4693-e480-d8697ff34b97"
      },
      "outputs": [
        {
          "name": "stdout",
          "output_type": "stream",
          "text": [
            "2.8.2\n",
            "--2022-07-19 03:51:18--  https://dicoding-academy-assets.sgp1.cdn.digitaloceanspaces.com/184/messy-vs-clean-room.zip\n",
            "Resolving dicoding-academy-assets.sgp1.cdn.digitaloceanspaces.com (dicoding-academy-assets.sgp1.cdn.digitaloceanspaces.com)... 205.185.216.42, 205.185.216.10\n",
            "Connecting to dicoding-academy-assets.sgp1.cdn.digitaloceanspaces.com (dicoding-academy-assets.sgp1.cdn.digitaloceanspaces.com)|205.185.216.42|:443... connected.\n",
            "HTTP request sent, awaiting response... 200 OK\n",
            "Length: 70392746 (67M) [application/zip]\n",
            "Saving to: ‘/tmp/messy_vs_clean_room.zip’\n",
            "\n",
            "/tmp/messy_vs_clean 100%[===================>]  67.13M   211MB/s    in 0.3s    \n",
            "\n",
            "2022-07-19 03:51:18 (211 MB/s) - ‘/tmp/messy_vs_clean_room.zip’ saved [70392746/70392746]\n",
            "\n",
            "Found 192 images belonging to 2 classes.\n",
            "Found 20 images belonging to 2 classes.\n",
            "Model: \"sequential_1\"\n",
            "_________________________________________________________________\n",
            " Layer (type)                Output Shape              Param #   \n",
            "=================================================================\n",
            " conv2d_5 (Conv2D)           (None, 148, 148, 32)      896       \n",
            "                                                                 \n",
            " max_pooling2d_5 (MaxPooling  (None, 74, 74, 32)       0         \n",
            " 2D)                                                             \n",
            "                                                                 \n",
            " conv2d_6 (Conv2D)           (None, 72, 72, 64)        18496     \n",
            "                                                                 \n",
            " max_pooling2d_6 (MaxPooling  (None, 36, 36, 64)       0         \n",
            " 2D)                                                             \n",
            "                                                                 \n",
            " conv2d_7 (Conv2D)           (None, 34, 34, 128)       73856     \n",
            "                                                                 \n",
            " max_pooling2d_7 (MaxPooling  (None, 17, 17, 128)      0         \n",
            " 2D)                                                             \n",
            "                                                                 \n",
            " conv2d_8 (Conv2D)           (None, 15, 15, 128)       147584    \n",
            "                                                                 \n",
            " max_pooling2d_8 (MaxPooling  (None, 7, 7, 128)        0         \n",
            " 2D)                                                             \n",
            "                                                                 \n",
            " conv2d_9 (Conv2D)           (None, 5, 5, 512)         590336    \n",
            "                                                                 \n",
            " max_pooling2d_9 (MaxPooling  (None, 2, 2, 512)        0         \n",
            " 2D)                                                             \n",
            "                                                                 \n",
            " flatten_1 (Flatten)         (None, 2048)              0         \n",
            "                                                                 \n",
            " dense_2 (Dense)             (None, 512)               1049088   \n",
            "                                                                 \n",
            " dense_3 (Dense)             (None, 1)                 513       \n",
            "                                                                 \n",
            "=================================================================\n",
            "Total params: 1,880,769\n",
            "Trainable params: 1,880,769\n",
            "Non-trainable params: 0\n",
            "_________________________________________________________________\n",
            "Epoch 1/20\n",
            "25/25 - 7s - loss: 0.7078 - accuracy: 0.5300 - val_loss: 0.6924 - val_accuracy: 0.5000 - 7s/epoch - 283ms/step\n",
            "Epoch 2/20\n",
            "25/25 - 6s - loss: 0.6963 - accuracy: 0.5200 - val_loss: 0.6929 - val_accuracy: 0.5000 - 6s/epoch - 244ms/step\n",
            "Epoch 3/20\n",
            "25/25 - 7s - loss: 0.6935 - accuracy: 0.4700 - val_loss: 0.6902 - val_accuracy: 0.6500 - 7s/epoch - 290ms/step\n",
            "Epoch 4/20\n",
            "25/25 - 6s - loss: 0.6822 - accuracy: 0.5000 - val_loss: 0.6925 - val_accuracy: 0.5000 - 6s/epoch - 244ms/step\n",
            "Epoch 5/20\n",
            "25/25 - 6s - loss: 0.7878 - accuracy: 0.6000 - val_loss: 0.9376 - val_accuracy: 0.5000 - 6s/epoch - 241ms/step\n",
            "Epoch 6/20\n",
            "25/25 - 6s - loss: 0.7557 - accuracy: 0.4900 - val_loss: 0.6929 - val_accuracy: 0.5000 - 6s/epoch - 242ms/step\n",
            "Epoch 7/20\n",
            "25/25 - 6s - loss: 0.6935 - accuracy: 0.5200 - val_loss: 0.6931 - val_accuracy: 0.5000 - 6s/epoch - 241ms/step\n",
            "Epoch 8/20\n",
            "25/25 - 6s - loss: 0.6934 - accuracy: 0.4800 - val_loss: 0.6930 - val_accuracy: 0.5000 - 6s/epoch - 240ms/step\n",
            "Epoch 9/20\n",
            "25/25 - 6s - loss: 0.6932 - accuracy: 0.5500 - val_loss: 0.6930 - val_accuracy: 0.5000 - 6s/epoch - 240ms/step\n",
            "Epoch 10/20\n",
            "25/25 - 6s - loss: 0.6950 - accuracy: 0.5100 - val_loss: 0.6930 - val_accuracy: 0.5000 - 6s/epoch - 240ms/step\n",
            "Epoch 11/20\n",
            "25/25 - 6s - loss: 0.6928 - accuracy: 0.5200 - val_loss: 0.6930 - val_accuracy: 0.5000 - 6s/epoch - 240ms/step\n",
            "Epoch 12/20\n",
            "25/25 - 6s - loss: 0.6929 - accuracy: 0.5100 - val_loss: 0.6929 - val_accuracy: 0.5000 - 6s/epoch - 242ms/step\n",
            "Epoch 13/20\n",
            "25/25 - 6s - loss: 0.6936 - accuracy: 0.4900 - val_loss: 0.6929 - val_accuracy: 0.5000 - 6s/epoch - 242ms/step\n",
            "Epoch 14/20\n",
            "25/25 - 6s - loss: 0.6936 - accuracy: 0.4700 - val_loss: 0.6931 - val_accuracy: 0.5000 - 6s/epoch - 242ms/step\n",
            "Epoch 15/20\n",
            "25/25 - 6s - loss: 0.6929 - accuracy: 0.5300 - val_loss: 0.6927 - val_accuracy: 0.5000 - 6s/epoch - 239ms/step\n",
            "Epoch 16/20\n",
            "25/25 - 7s - loss: 0.6931 - accuracy: 0.5500 - val_loss: 0.6921 - val_accuracy: 0.5000 - 7s/epoch - 286ms/step\n",
            "Epoch 17/20\n",
            "25/25 - 6s - loss: 0.6913 - accuracy: 0.5300 - val_loss: 0.6919 - val_accuracy: 0.5000 - 6s/epoch - 240ms/step\n",
            "Epoch 18/20\n",
            "25/25 - 6s - loss: 0.6953 - accuracy: 0.4900 - val_loss: 0.6931 - val_accuracy: 0.5000 - 6s/epoch - 238ms/step\n",
            "Epoch 19/20\n",
            "25/25 - 6s - loss: 0.6944 - accuracy: 0.4900 - val_loss: 0.6932 - val_accuracy: 0.5000 - 6s/epoch - 238ms/step\n",
            "Epoch 20/20\n",
            "25/25 - 6s - loss: 0.6935 - accuracy: 0.4900 - val_loss: 0.6931 - val_accuracy: 0.5000 - 6s/epoch - 238ms/step\n"
          ]
        },
        {
          "data": {
            "text/html": [
              "\n",
              "     <input type=\"file\" id=\"files-cb6ceda0-39d6-4c70-b0eb-4c4766109de1\" name=\"files[]\" multiple disabled\n",
              "        style=\"border:none\" />\n",
              "     <output id=\"result-cb6ceda0-39d6-4c70-b0eb-4c4766109de1\">\n",
              "      Upload widget is only available when the cell has been executed in the\n",
              "      current browser session. Please rerun this cell to enable.\n",
              "      </output>\n",
              "      <script src=\"/nbextensions/google.colab/files.js\"></script> "
            ],
            "text/plain": [
              "<IPython.core.display.HTML object>"
            ]
          },
          "metadata": {},
          "output_type": "display_data"
        }
      ],
      "source": [
        "import tensorflow as tf\n",
        "print(tf.__version__)\n",
        "\n",
        "!wget --no-check-certificate \\\n",
        "  https://dicoding-academy-assets.sgp1.cdn.digitaloceanspaces.com/184/messy-vs-clean-room.zip \\\n",
        "  -O /tmp/messy_vs_clean_room.zip\n",
        "\n",
        "# melakukan ekstraksi pada file zip\n",
        "import zipfile,os\n",
        "local_zip = '/tmp/messy_vs_clean_room.zip'\n",
        "zip_ref = zipfile.ZipFile(local_zip, 'r')\n",
        "zip_ref.extractall('/tmp')\n",
        "zip_ref.close()\n",
        "     \n",
        "base_dir = '/tmp/images'\n",
        "train_dir = os.path.join(base_dir, 'train')\n",
        "validation_dir = os.path.join(base_dir, 'val')\n",
        "\n",
        "os.listdir('/tmp/images/train')\n",
        "\n",
        "os.listdir('/tmp/images/val')\n",
        "\n",
        "from tensorflow.keras.preprocessing.image import ImageDataGenerator\n",
        "     \n",
        "train_datagen = ImageDataGenerator(\n",
        "                        rescale=1./255,\n",
        "                        rotation_range=20,\n",
        "                        horizontal_flip=True,\n",
        "                        shear_range = 0.2,\n",
        "                        fill_mode = 'nearest')\n",
        "     \n",
        "test_datagen = ImageDataGenerator(\n",
        "                        rescale=1./255)\n",
        "\n",
        "train_generator = train_datagen.flow_from_directory(\n",
        "            train_dir,  # direktori data latih\n",
        "            target_size=(150, 150),  # mengubah resolusi seluruh gambar menjadi 150x150 piksel\n",
        "            batch_size=4,\n",
        "            # karena ini merupakan masalah klasifikasi 2 kelas, gunakan class_mode = 'binary'\n",
        "            class_mode='binary')\n",
        "     \n",
        "validation_generator = test_datagen.flow_from_directory(\n",
        "            validation_dir, # direktori data validasi\n",
        "            target_size=(150, 150), # mengubah resolusi seluruh gambar menjadi 150x150 piksel\n",
        "            batch_size=4, # karena ini merupakan masalah klasifikasi 2 kelas gunakan class_mode = 'binary'\n",
        "            class_mode='binary')\n",
        "\n",
        "model = tf.keras.models.Sequential([\n",
        "        tf.keras.layers.Conv2D(32, (3,3), activation='relu', input_shape=(150, 150, 3)),\n",
        "        tf.keras.layers.MaxPooling2D(2, 2),\n",
        "        tf.keras.layers.Conv2D(64, (3,3), activation='relu'),\n",
        "        tf.keras.layers.MaxPooling2D(2,2),\n",
        "        tf.keras.layers.Conv2D(128, (3,3), activation='relu'),\n",
        "        tf.keras.layers.MaxPooling2D(2,2),\n",
        "        tf.keras.layers.Conv2D(128, (3,3), activation='relu'),\n",
        "        tf.keras.layers.MaxPooling2D(2,2),\n",
        "        tf.keras.layers.Conv2D(512, (3,3), activation='relu'),\n",
        "        tf.keras.layers.MaxPooling2D(2,2),\n",
        "        tf.keras.layers.Flatten(),\n",
        "        tf.keras.layers.Dense(512, activation='relu'),\n",
        "        tf.keras.layers.Dense(1, activation='sigmoid')\n",
        "    ])\n",
        "\n",
        "model.summary()\n",
        "\n",
        "# compile model dengan 'adam' optimizer loss function 'binary_crossentropy'\n",
        "model.compile(loss='binary_crossentropy',\n",
        "              optimizer=tf.optimizers.Adam(),\n",
        "              metrics=['accuracy'])\n",
        "\n",
        "# latih model dengan model.fit\n",
        "model.fit(\n",
        "    train_generator,\n",
        "    steps_per_epoch=25, # berapa batch yang akan di eksekusi pada setiap epoch\n",
        "    epochs=20, # tambahan epochs jika akurasi model belum optimal\n",
        "    validation_data=validation_generator, # menampilkan akurasi pengujian data validasi\n",
        "    validation_steps=5, # berapa batch yang akan di eksekusi pada setiap epoch\n",
        "    verbose=2\n",
        ")\n",
        "\n",
        "import numpy as np\n",
        "from google.colab import files\n",
        "from tensorflow.keras.preprocessing import image\n",
        "import matplotlib.pyplot as plt\n",
        "import matplotlib.image as mpimg\n",
        "%matplotlib inline\n",
        "     \n",
        "uploaded = files.upload()\n",
        "     \n",
        "for fn in uploaded.keys():\n",
        "     \n",
        "  # predicting images\n",
        "  path = fn\n",
        "  img = image.load_img(path, target_size=(150,150))\n",
        "     \n",
        "  imgplot = plt.imshow(img)\n",
        "  x = image.img_to_array(img)\n",
        "  x = np.expand_dims(x, axis=0)\n",
        "  images = np.vstack([x])\n",
        "     \n",
        "  classes = model.predict(images, batch_size=10)  \n",
        "  print(fn)\n",
        "  if classes==0:\n",
        "    print('messy')\n",
        "  else:\n",
        "    print('clean')"
      ]
    },
    {
      "cell_type": "code",
      "source": [
        ""
      ],
      "metadata": {
        "id": "4cJBX255r3Hi"
      },
      "execution_count": null,
      "outputs": []
    }
  ],
  "metadata": {
    "colab": {
      "name": "Belajar ML.ipynb",
      "provenance": [],
      "authorship_tag": "ABX9TyMHvbVcw9q/J7Ao3ntrY1z9",
      "include_colab_link": true
    },
    "kernelspec": {
      "display_name": "Python 3",
      "name": "python3"
    },
    "language_info": {
      "name": "python"
    }
  },
  "nbformat": 4,
  "nbformat_minor": 0
}